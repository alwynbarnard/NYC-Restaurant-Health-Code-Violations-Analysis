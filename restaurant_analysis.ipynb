{
 "cells": [
  {
   "cell_type": "markdown",
   "metadata": {},
   "source": [
    "# NYC Restaurant Analysis\n",
    "Data obtained from https://data.cityofnewyork.us/Health/DOHMH-New-York-City-Restaurant-Inspection-Results/43nn-pn8j/about_data "
   ]
  },
  {
   "cell_type": "code",
   "execution_count": 2,
   "metadata": {},
   "outputs": [],
   "source": [
    "# Import modules for data cleaning and handling\n",
    "import pandas as pd # For data processing and the use of dataframes\n",
    "import numpy as np # For numerical operations"
   ]
  },
  {
   "cell_type": "code",
   "execution_count": 3,
   "metadata": {},
   "outputs": [],
   "source": [
    "# Read the data from the csv file\n",
    "df = pd.read_csv('./Raw Data/DOHMH_New_York_City_Restaurant_Inspection_Results_20250121.csv')"
   ]
  },
  {
   "cell_type": "code",
   "execution_count": 4,
   "metadata": {},
   "outputs": [],
   "source": [
    "# Drop the columns that are not needed\n",
    "df.drop([\"PHONE\",\"Latitude\", \"Longitude\", \"Community Board\", \"Council District\", \"Census Tract\", \"BIN\", \"BBL\", \"NTA\", \"Location Point1\"], axis=1, inplace=True)"
   ]
  },
  {
   "cell_type": "code",
   "execution_count": 5,
   "metadata": {},
   "outputs": [],
   "source": [
    "#  Establishments with inspection date of 1/1/1900 are new establishments that have not yet received an inspection.\n",
    "# These establishments will be removed from the dataset.\n",
    "df.drop(df[df[\"INSPECTION DATE\"] == \"01/01/1900\"].index, inplace=True)"
   ]
  },
  {
   "cell_type": "code",
   "execution_count": 6,
   "metadata": {},
   "outputs": [],
   "source": [
    "df = df.convert_dtypes() # Convert the data types of the columns to the most appropriate data type\n",
    "df[\"ZIPCODE\"] = df[\"ZIPCODE\"].round(0) # Convert the ZIPCODE column to a string data type"
   ]
  },
  {
   "cell_type": "code",
   "execution_count": 7,
   "metadata": {},
   "outputs": [],
   "source": [
    "# Create a new column that will serve as a shortened summary of the ACTION column\n",
    "df[\"actions_taken\"] = df[\"ACTION\"].apply(lambda x: \"Violations\" if x == \"Violations were cited in the following area(s).\" else (\"Passed\" if x == \"No violations were recorded at the time of this inspection.\" else (\"Closed\" if x == \"Establishment Closed by DOHMH. Violations were cited in the following area(s) and those requiring immediate action were addressed.\" else (\"Reclosed\" if x == \"Establishment re-closed by DOHMH.\" else (\"Reopened\" if x == \"Establishment re-opened by DOHMH.\" else pd.NA)))))\n",
    "# Drop the ACTION column to shorten the dataframe\n",
    "df.drop([\"ACTION\"], axis=1, inplace=True)"
   ]
  },
  {
   "cell_type": "code",
   "execution_count": 8,
   "metadata": {},
   "outputs": [],
   "source": [
    "# Save the cleaned data to an excel file\n",
    "df.to_excel(\"./NYC_Restaurant_Inspection_Results_Cleaned.xlsx\", index=False)"
   ]
  },
  {
   "cell_type": "markdown",
   "metadata": {},
   "source": [
    "# Convert and Format Food Safety Health Code Reference File"
   ]
  },
  {
   "cell_type": "code",
   "execution_count": 9,
   "metadata": {},
   "outputs": [],
   "source": [
    "fs_df = pd.read_csv(\"./Raw Data/Violation-Health-Code-Mapping.csv\")"
   ]
  },
  {
   "cell_type": "code",
   "execution_count": 11,
   "metadata": {},
   "outputs": [
    {
     "data": {
      "text/html": [
       "<div>\n",
       "<style scoped>\n",
       "    .dataframe tbody tr th:only-of-type {\n",
       "        vertical-align: middle;\n",
       "    }\n",
       "\n",
       "    .dataframe tbody tr th {\n",
       "        vertical-align: top;\n",
       "    }\n",
       "\n",
       "    .dataframe thead th {\n",
       "        text-align: right;\n",
       "    }\n",
       "</style>\n",
       "<table border=\"1\" class=\"dataframe\">\n",
       "  <thead>\n",
       "    <tr style=\"text-align: right;\">\n",
       "      <th></th>\n",
       "      <th>Violation_Code</th>\n",
       "      <th>Violation_Summary</th>\n",
       "      <th>Category_Description</th>\n",
       "    </tr>\n",
       "  </thead>\n",
       "  <tbody>\n",
       "    <tr>\n",
       "      <th>0</th>\n",
       "      <td>02A</td>\n",
       "      <td>Other PHFs: 140°F for 15 sec.</td>\n",
       "      <td>COOKING</td>\n",
       "    </tr>\n",
       "    <tr>\n",
       "      <th>1</th>\n",
       "      <td>02A</td>\n",
       "      <td>Whole or ground poultry, poultry parts, all fo...</td>\n",
       "      <td>COOKING</td>\n",
       "    </tr>\n",
       "    <tr>\n",
       "      <th>2</th>\n",
       "      <td>02A</td>\n",
       "      <td>Pork/food containing pork: 150°F for 15 sec.</td>\n",
       "      <td>COOKING</td>\n",
       "    </tr>\n",
       "    <tr>\n",
       "      <th>3</th>\n",
       "      <td>02A</td>\n",
       "      <td>Whole meat roasts and/or rare beef steaks: Min...</td>\n",
       "      <td>COOKING</td>\n",
       "    </tr>\n",
       "    <tr>\n",
       "      <th>4</th>\n",
       "      <td>02A</td>\n",
       "      <td>Ground or comminuted meat: 158°F</td>\n",
       "      <td>COOKING</td>\n",
       "    </tr>\n",
       "    <tr>\n",
       "      <th>...</th>\n",
       "      <td>...</td>\n",
       "      <td>...</td>\n",
       "      <td>...</td>\n",
       "    </tr>\n",
       "    <tr>\n",
       "      <th>199</th>\n",
       "      <td>22C</td>\n",
       "      <td>Light fixtures not shielded</td>\n",
       "      <td>FACILITY</td>\n",
       "    </tr>\n",
       "    <tr>\n",
       "      <th>200</th>\n",
       "      <td>22E</td>\n",
       "      <td>Equipment used for ROP not approved by the Dep...</td>\n",
       "      <td>EQUIPMENT</td>\n",
       "    </tr>\n",
       "    <tr>\n",
       "      <th>201</th>\n",
       "      <td>22F</td>\n",
       "      <td>Labeling improper/misbranded</td>\n",
       "      <td>LABELING</td>\n",
       "    </tr>\n",
       "    <tr>\n",
       "      <th>202</th>\n",
       "      <td>22F</td>\n",
       "      <td>Labeling requirements</td>\n",
       "      <td>LABELING</td>\n",
       "    </tr>\n",
       "    <tr>\n",
       "      <th>203</th>\n",
       "      <td>22G</td>\n",
       "      <td>Sale or use of certain expanded polystyrene it...</td>\n",
       "      <td>EXPANDED POLYSTYRENE</td>\n",
       "    </tr>\n",
       "  </tbody>\n",
       "</table>\n",
       "<p>204 rows × 3 columns</p>\n",
       "</div>"
      ],
      "text/plain": [
       "    Violation_Code                                  Violation_Summary  \\\n",
       "0              02A                      Other PHFs: 140°F for 15 sec.   \n",
       "1              02A  Whole or ground poultry, poultry parts, all fo...   \n",
       "2              02A       Pork/food containing pork: 150°F for 15 sec.   \n",
       "3              02A  Whole meat roasts and/or rare beef steaks: Min...   \n",
       "4              02A                   Ground or comminuted meat: 158°F   \n",
       "..             ...                                                ...   \n",
       "199            22C                        Light fixtures not shielded   \n",
       "200            22E  Equipment used for ROP not approved by the Dep...   \n",
       "201            22F                       Labeling improper/misbranded   \n",
       "202            22F                              Labeling requirements   \n",
       "203            22G  Sale or use of certain expanded polystyrene it...   \n",
       "\n",
       "     Category_Description  \n",
       "0                 COOKING  \n",
       "1                 COOKING  \n",
       "2                 COOKING  \n",
       "3                 COOKING  \n",
       "4                 COOKING  \n",
       "..                    ...  \n",
       "199              FACILITY  \n",
       "200             EQUIPMENT  \n",
       "201              LABELING  \n",
       "202              LABELING  \n",
       "203  EXPANDED POLYSTYRENE  \n",
       "\n",
       "[204 rows x 3 columns]"
      ]
     },
     "execution_count": 11,
     "metadata": {},
     "output_type": "execute_result"
    }
   ],
   "source": [
    "# Drop columns that are not needed\n",
    "fs_df.drop([\"Health_Code\",\"Violation_Template\",\"Condition I\", \"Condition II\",\"Condition III\", \"Condition IV\", \"Condition V\"], axis=1, inplace=True)"
   ]
  },
  {
   "cell_type": "code",
   "execution_count": 13,
   "metadata": {},
   "outputs": [],
   "source": [
    "# Export the cleaned data to an Excel sheet\n",
    "fs_df.to_excel(\"./Health_Code_Violations_Cleaned.xlsx\")"
   ]
  }
 ],
 "metadata": {
  "kernelspec": {
   "display_name": "Python 3",
   "language": "python",
   "name": "python3"
  },
  "language_info": {
   "codemirror_mode": {
    "name": "ipython",
    "version": 3
   },
   "file_extension": ".py",
   "mimetype": "text/x-python",
   "name": "python",
   "nbconvert_exporter": "python",
   "pygments_lexer": "ipython3",
   "version": "3.13.0"
  }
 },
 "nbformat": 4,
 "nbformat_minor": 2
}
